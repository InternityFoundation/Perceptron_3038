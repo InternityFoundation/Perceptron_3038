{
  "nbformat": 4,
  "nbformat_minor": 0,
  "metadata": {
    "colab": {
      "name": "extracting images.ipynb",
      "provenance": []
    },
    "kernelspec": {
      "name": "python3",
      "display_name": "Python 3"
    }
  },
  "cells": [
    {
      "cell_type": "code",
      "metadata": {
        "id": "aM6hQNaAXjnJ",
        "colab_type": "code",
        "colab": {}
      },
      "source": [
        "import dlib\n",
        "import cv2\n",
        "import os\n",
        "import re\n",
        "import json\n",
        "from pylab import *\n",
        "from PIL import Image, ImageChops, ImageEnhance"
      ],
      "execution_count": 1,
      "outputs": []
    },
    {
      "cell_type": "code",
      "metadata": {
        "id": "F9e7h-Rqde1K",
        "colab_type": "code",
        "colab": {}
      },
      "source": [
        ""
      ],
      "execution_count": null,
      "outputs": []
    },
    {
      "cell_type": "code",
      "metadata": {
        "id": "2M0B9Em_dcrw",
        "colab_type": "code",
        "colab": {}
      },
      "source": [
        "detector = dlib.get_frontal_face_detector()\n",
        "frameRate = cap.get(5)\n",
        "count =0\n",
        "cap = cv2.VideoCapture(\"drive/My Drive/v/test1.mp4\")\n",
        "with open('people.csv', 'w', ) as csvfile:\n",
        "    peoplewriter = csv.writer(csvfile, delimiter=',', quotechar='|', quoting=csv.QUOTE_MINIMAL)\n",
        "    while cap.isOpened():\n",
        "            frameId = cap.get(1)\n",
        "            ret, frame = cap.read()\n",
        "            if ret != True:\n",
        "                break\n",
        "            if frameId % ((int(frameRate)+1)*1) == 0:\n",
        "                face_rects, scores, idx = detector.run(frame, 0)\n",
        "                for i, d in enumerate(face_rects):\n",
        "                    x1 = d.left()\n",
        "                    y1 = d.top()\n",
        "                    x2 = d.right()\n",
        "                    y2 = d.bottom()\n",
        "                    print(x1,y1,x2,y2)\n",
        "                    peoplewriter.writerow([x1,y1,x2,y2])\n",
        "\n",
        "                    crop_img = frame[y1:y2, x1:x2]\n",
        "                    path = 'drive/My Drive/face_store'\n",
        "                    cv2.imwrite(os.path.join(path, vid.split('.')[0]+'_'+str(count)+'.png'), cv2.resize(crop_img, (128, 128)))\n",
        "                    # if data[vid]['label'] == 'REAL':\n",
        "                    #     path = 'drive/My Drive/dataset/real'\n",
        "                    #     cv2.imwrite(os.path.join(path, vid.split('.')[0]+'_'+str(count)+'.png'), cv2.resize(crop_img, (128, 128)))\n",
        "                    #     #cv2.imwrite('dataset/real/'+vid.split('.')[0]+'_'+str(count)+'.png', cv2.resize(crop_img, (128, 128)))\n",
        "                    # elif data[vid]['label'] == 'FAKE':\n",
        "                    #     path = 'drive/My Drive/dataset/fake'\n",
        "                    #     cv2.imwrite(os.path.join(path, vid.split('.')[0]+'_'+str(count)+'.png'), cv2.resize(crop_img, (128, 128)))\n",
        "                    #     cv2.imwrite('dataset/fake/'+vid.split('.')[0]+'_'+str(count)+'.png', cv2.resize(crop_img, (128, 128)))\n",
        "                    count+=1"
      ],
      "execution_count": null,
      "outputs": []
    }
  ]
}