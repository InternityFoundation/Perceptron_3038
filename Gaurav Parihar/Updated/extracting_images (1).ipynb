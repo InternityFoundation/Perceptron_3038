{
  "nbformat": 4,
  "nbformat_minor": 0,
  "metadata": {
    "colab": {
      "name": "extracting images.ipynb",
      "provenance": []
    },
    "kernelspec": {
      "name": "python3",
      "display_name": "Python 3"
    }
  },
  "cells": [
    {
      "cell_type": "code",
      "metadata": {
        "id": "aM6hQNaAXjnJ",
        "colab_type": "code",
        "colab": {}
      },
      "source": [
        "import dlib\n",
        "import cv2\n",
        "import os\n",
        "import re\n",
        "import json\n",
        "from pylab import *\n",
        "from PIL import Image, ImageChops, ImageEnhance"
      ],
      "execution_count": 1,
      "outputs": []
    },
    {
      "cell_type": "code",
      "metadata": {
        "id": "-nS3JlYuxvJC",
        "colab_type": "code",
        "colab": {}
      },
      "source": [
        "train_frame_folder = 'drive/My Drive/v'\n",
        "list_of_train_data = [f for f in os.listdir(train_frame_folder) if f.endswith('.mp4')]\n",
        "detector = dlib.get_frontal_face_detector()\n",
        "c=0\n",
        "for vid in list_of_train_data:\n",
        "    c = c+1\n",
        "    count = 0\n",
        "    cap = cv2.VideoCapture(os.path.join(train_frame_folder, vid))\n",
        "    frameRate = cap.get(5)\n",
        "    while cap.isOpened():\n",
        "        frameId = cap.get(1)\n",
        "        ret, frame = cap.read()\n",
        "        if ret != True:\n",
        "            break\n",
        "        if frameId % ((int(frameRate)+1)*1) == 0:\n",
        "            face_rects, scores, idx = detector.run(frame, 0)\n",
        "            for i, d in enumerate(face_rects):\n",
        "                x1 = d.left()\n",
        "                y1 = d.top()\n",
        "                x2 = d.right()\n",
        "                y2 = d.bottom()\n",
        "                crop_img = frame[y1:y2, x1:x2]\n",
        "                if c==1:\n",
        "                    path = 'drive/My Drive/faces/person1'\n",
        "                    cv2.imwrite(os.path.join(path, vid.split('.')[0]+'_'+str(count)+'.png'), cv2.resize(crop_img, (128, 128)))\n",
        "                    #cv2.imwrite('dataset/real/'+vid.split('.')[0]+'_'+str(count)+'.png', cv2.resize(crop_img, (128, 128)))\n",
        "                elif c==2:\n",
        "                    path = 'drive/My Drive/faces/person2'\n",
        "                    cv2.imwrite(os.path.join(path, vid.split('.')[0]+'_'+str(count)+'.png'), cv2.resize(crop_img, (128, 128)))\n",
        "                    # cv2.imwrite('dataset/fake/'+vid.split('.')[0]+'_'+str(count)+'.png', cv2.resize(crop_img, (128, 128)))\n",
        "                count+=1"
      ],
      "execution_count": 31,
      "outputs": []
    }
  ]
}