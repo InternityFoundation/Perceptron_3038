{
 "cells": [
  {
   "cell_type": "code",
   "execution_count": 11,
   "metadata": {},
   "outputs": [],
   "source": [
    "\n",
    "import numpy as np \n",
    "import cv2\n",
    "\n",
    "\n",
    "facedetect = cv2.CascadeClassifier('E:\\Python\\Lecture_10\\haarcascade_frontalface_default.xml')\n",
    "\n",
    "cam = cv2.VideoCapture(r'E:\\Python\\Lecture_10\\test1.mp4')\n",
    "sampleNum = 0\n",
    "\n",
    "\n",
    "while(True):\n",
    "\tret,img = cam.read()\n",
    "\tgray = cv2.cvtColor(img,cv2.COLOR_BGR2GRAY)\n",
    "\tfaces = facedetect.detectMultiScale(gray,1.3,5)\n",
    "\n",
    "\tfor(x,y,w,h) in faces:\n",
    "\t\tsampleNum+=1\n",
    "\t\tcv2.imwrite('dataset/'+'_'+str(sampleNum)+'.jpg',gray[y:y+h,x:x+w])\n",
    "\t\tcv2.rectangle(img,(x,y),(x+w,y+h),(0,255,0),2)\n",
    "\t\tcv2.waitKey(1)\n",
    "\tcv2.imshow('face',img)\n",
    "\tcv2.waitKey(1)\n",
    "\tif(sampleNum>1000):\n",
    "\t\tbreak\n",
    "\n",
    "cam.release()\n",
    "cv2.destroyAllWindows()"
   ]
  },
  {
   "cell_type": "code",
   "execution_count": null,
   "metadata": {},
   "outputs": [],
   "source": [
    "cv2.detectMultiscale?\n",
    "\n"
   ]
  },
  {
   "cell_type": "code",
   "execution_count": null,
   "metadata": {},
   "outputs": [],
   "source": []
  },
  {
   "cell_type": "code",
   "execution_count": null,
   "metadata": {},
   "outputs": [],
   "source": []
  }
 ],
 "metadata": {
  "kernelspec": {
   "display_name": "Python 3",
   "language": "python",
   "name": "python3"
  },
  "language_info": {
   "codemirror_mode": {
    "name": "ipython",
    "version": 3
   },
   "file_extension": ".py",
   "mimetype": "text/x-python",
   "name": "python",
   "nbconvert_exporter": "python",
   "pygments_lexer": "ipython3",
   "version": "3.7.3"
  }
 },
 "nbformat": 4,
 "nbformat_minor": 2
}
